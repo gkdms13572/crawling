{
  "nbformat": 4,
  "nbformat_minor": 0,
  "metadata": {
    "colab": {
      "provenance": []
    },
    "kernelspec": {
      "name": "python3",
      "display_name": "Python 3"
    },
    "language_info": {
      "name": "python"
    }
  },
  "cells": [
    {
      "cell_type": "markdown",
      "source": [
        "**웹 페이지 구동 방식**<br>\n",
        "정적인 페이지 -> url부터 다 바뀜 -> html, css <br>\n",
        "동적인 페이지 -> url 바뀌지 않고 페이지 변함 -> javascript"
      ],
      "metadata": {
        "id": "46yLMucYi3I3"
      }
    },
    {
      "cell_type": "code",
      "source": [
        "import requests\n",
        "from bs4 import BeautifulSoup\n",
        "\n",
        "# 이미지 다운로드 모듈\n",
        "import urllib.request as req\n",
        "\n",
        "# 파일저장 모듈\n",
        "import os\n",
        "\n",
        "url = \"http://www.cgv.co.kr/movies/?lt=1&ft=0\"\n",
        "\n",
        "code = requests.get(url)\n",
        "soup = BeautifulSoup(code.text,\"html.parser\")\n",
        "\n",
        "title = soup.select(\"strong.title\")\n",
        "imgs = soup.select(\"span.thumb-image>img\")\n",
        "\n",
        "# 폴더가 없으면 폴더 만들기!\n",
        "if not os.path.exists(\"포스터이미지\"): # 폴더가 없으면이라는 뜻\n",
        "  os.mkdir(\"포스터이미지\") #폴더를 생성하겠다.\n",
        "\n",
        "# 이미지 차례대로 저장\n",
        "for t,i in zip(title,imgs):\n",
        "  fileName = f\"포스터이미지/{t.text}.jpg\" #파일경로 - 포스터이미지/(제목).jpg\n",
        "  # 저장\n",
        "  imgurl = i[\"src\"] #태그의 src속성명 추출\n",
        "  req.urlretrieve(imgurl,fileName)\n",
        "  print(fileName, \"저장완료!\")"
      ],
      "metadata": {
        "id": "CvaLQx9ticJt",
        "colab": {
          "base_uri": "https://localhost:8080/"
        },
        "outputId": "24af2373-aabd-4e54-d4a1-382b1608bc7c"
      },
      "execution_count": null,
      "outputs": [
        {
          "output_type": "stream",
          "name": "stdout",
          "text": [
            "포스터이미지/파일럿.jpg 저장완료!\n",
            "포스터이미지/세븐틴 투어 ‘팔로우’ 어게인 투 시네마.jpg 저장완료!\n",
            "포스터이미지/데드풀과 울버린.jpg 저장완료!\n",
            "포스터이미지/사랑의 하츄핑.jpg 저장완료!\n",
            "포스터이미지/행복의 나라.jpg 저장완료!\n",
            "포스터이미지/슈퍼배드 4.jpg 저장완료!\n",
            "포스터이미지/리볼버.jpg 저장완료!\n",
            "포스터이미지/빅토리.jpg 저장완료!\n",
            "포스터이미지/인사이드 아웃 2.jpg 저장완료!\n",
            "포스터이미지/극장총집편 봇치 더 록! 전편.jpg 저장완료!\n",
            "포스터이미지/10 라이브즈.jpg 저장완료!\n",
            "포스터이미지/극장판 도라에몽-진구의 지구 교향곡.jpg 저장완료!\n",
            "포스터이미지/헬로카봇 올스타 스페셜.jpg 저장완료!\n",
            "포스터이미지/수카바티-극락축구단.jpg 저장완료!\n",
            "포스터이미지/명탐정 코난-100만 달러의 펜타그램.jpg 저장완료!\n",
            "포스터이미지/2023 영탁 단독 콘서트 : 탁쇼2.jpg 저장완료!\n",
            "포스터이미지/탈주.jpg 저장완료!\n",
            "포스터이미지/이준호 콘서트 : 다시 만나는 날.jpg 저장완료!\n",
            "포스터이미지/블랙핑크 월드투어 [본 핑크] 인 시네마.jpg 저장완료!\n"
          ]
        }
      ]
    }
  ]
}